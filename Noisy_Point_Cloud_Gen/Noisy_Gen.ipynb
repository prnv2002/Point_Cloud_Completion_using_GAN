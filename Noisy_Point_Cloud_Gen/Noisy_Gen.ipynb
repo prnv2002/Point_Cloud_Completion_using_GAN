{
  "metadata": {
    "language_info": {
      "codemirror_mode": {
        "name": "python",
        "version": 3
      },
      "file_extension": ".py",
      "mimetype": "text/x-python",
      "name": "python",
      "nbconvert_exporter": "python",
      "pygments_lexer": "ipython3",
      "version": "3.8"
    },
    "kernelspec": {
      "name": "python",
      "display_name": "Python (Pyodide)",
      "language": "python"
    }
  },
  "nbformat_minor": 4,
  "nbformat": 4,
  "cells": [
    {
      "cell_type": "code",
      "source": "import os\nimport sys\nimport tqdm\nimport torch\nimport random\nimport datetime\nimport numpy as np\nimport matplotlib.pyplot as plt\nfrom mpl_toolkits.mplot3d import Axes3D\nfrom pyntcloud import PyntCloud\nfrom sklearn.model_selection import train_test_split\nimport torch.nn as nn\nimport torch.nn.functional as F\nfrom torch.utils.data import Dataset, DataLoader\nfrom tensorboardX import SummaryWriter",
      "metadata": {},
      "execution_count": null,
      "outputs": []
    },
    {
      "cell_type": "code",
      "source": "np.random.seed(42)\n\nDATA_DIR = 'Load/latent_3d_points/data/shape_net_core_uniform_samples_2048/'\nlist_point_clouds = np.load('Load/numpy_arrays/list_point_subset.npy')",
      "metadata": {},
      "execution_count": null,
      "outputs": []
    },
    {
      "cell_type": "code",
      "source": "class PointcloudDatasetAE(Dataset):\n    def __init__(self, root, list_point_clouds):\n        self.root = root\n        self.list_files = list_point_clouds\n        \n    def __len__(self):\n        return len(self.list_files)\n\n    def __getitem__(self, index):\n        points = PyntCloud.from_file(self.list_files[index])\n        points = np.array(points.points)\n        points_normalized = (points - (-0.5)) / (0.5 - (-0.5))\n        points = points_normalized.astype(np.float)\n        points = torch.from_numpy(points)\n        \n        return points",
      "metadata": {},
      "execution_count": null,
      "outputs": []
    },
    {
      "cell_type": "code",
      "source": "list_new_data = []\nfor i in tqdm.trange(len(list_point_clouds)):\n    points = PyntCloud.from_file(list_point_clouds[i])\n    points = np.array(points.points)\n    seed_idx = int(np.random.rand() * 2048 * 0.8)\n    points_removed = np.concatenate((points[:seed_idx, :], points[seed_idx + int(0.2*2048):, :]), axis=0)\n    list_new_data.append(points_removed)",
      "metadata": {},
      "execution_count": null,
      "outputs": []
    },
    {
      "cell_type": "code",
      "source": "np.save('list_point_noisy.npy', list_new_data)",
      "metadata": {},
      "execution_count": null,
      "outputs": []
    }
  ]
}